{
 "cells": [
  {
   "cell_type": "code",
   "execution_count": null,
   "id": "f0f06229",
   "metadata": {},
   "outputs": [],
   "source": [
    "Losgistic regression"
   ]
  },
  {
   "cell_type": "code",
   "execution_count": null,
   "id": "41433e4f",
   "metadata": {},
   "outputs": [],
   "source": [
    "import numpy as np\n",
    "import pandas as pd\n",
    "from sklearn.model_selection import train_test_split\n",
    "from sklearn.linear_model import LogisticRegression\n",
    "from sklearn.metrics import accuracy_score\n"
   ]
  },
  {
   "cell_type": "code",
   "execution_count": null,
   "id": "d1051e01",
   "metadata": {},
   "outputs": [],
   "source": [
    "credit_card_df = pd.read_csv('creditcard.csv')\n",
    "credit_card_df.head(20)"
   ]
  },
  {
   "cell_type": "code",
   "execution_count": null,
   "id": "2d930979",
   "metadata": {},
   "outputs": [],
   "source": [
    "credit_card_df.info()"
   ]
  },
  {
   "cell_type": "code",
   "execution_count": null,
   "id": "43d220ed",
   "metadata": {},
   "outputs": [],
   "source": [
    "credit_card_df.shape"
   ]
  },
  {
   "cell_type": "code",
   "execution_count": null,
   "id": "d2ccce2a",
   "metadata": {},
   "outputs": [],
   "source": [
    "credit_card_df.describe()"
   ]
  },
  {
   "cell_type": "code",
   "execution_count": null,
   "id": "1badd936",
   "metadata": {},
   "outputs": [],
   "source": [
    "legit = credit_card_df[credit_card_df.Class == 0]\n",
    "fraud = credit_card_df[credit_card_df.Class == 1]"
   ]
  },
  {
   "cell_type": "code",
   "execution_count": null,
   "id": "091001d5",
   "metadata": {},
   "outputs": [],
   "source": [
    "fraud.shape\n",
    "legit.shape"
   ]
  },
  {
   "cell_type": "code",
   "execution_count": null,
   "id": "41c13742",
   "metadata": {},
   "outputs": [],
   "source": [
    "legit_sample = legit.sample(n=500)\n",
    "credit_card_df = pd.concat([legit_sample,fraud],axis = 0)"
   ]
  },
  {
   "cell_type": "code",
   "execution_count": null,
   "id": "ee677011",
   "metadata": {},
   "outputs": [],
   "source": [
    "credit_card_df['Class'].value_counts()"
   ]
  },
  {
   "cell_type": "code",
   "execution_count": 42,
   "id": "375a863e",
   "metadata": {},
   "outputs": [],
   "source": [
    "X =  credit_card_df.drop('Class',axis = 1)\n",
    "Y =  credit_card_df['Class']"
   ]
  },
  {
   "cell_type": "code",
   "execution_count": 43,
   "id": "e6d6d944",
   "metadata": {},
   "outputs": [],
   "source": [
    "X_train, X_test, Y_train, Y_test =train_test_split(X, Y, test_size=0.2, stratify=Y, random_state=2) "
   ]
  },
  {
   "cell_type": "code",
   "execution_count": 49,
   "id": "baeb617f",
   "metadata": {},
   "outputs": [],
   "source": [
    "from sklearn.preprocessing import StandardScaler\n",
    "\n",
    "scaler = StandardScaler()\n",
    "X_train_scaled = scaler.fit_transform(X_train)\n",
    "X_test_scaled = scaler.transform(X_test)\n",
    "\n",
    "model = LogisticRegression(class_weight='balanced', max_iter=1000)\n",
    "model.fit(X_train_scaled, Y_train)\n",
    "y_pred = model.predict(X_test_scaled)\n",
    "\n"
   ]
  },
  {
   "cell_type": "code",
   "execution_count": 50,
   "id": "88d306d7",
   "metadata": {},
   "outputs": [
    {
     "data": {
      "text/plain": [
       "0.9296482412060302"
      ]
     },
     "execution_count": 50,
     "metadata": {},
     "output_type": "execute_result"
    }
   ],
   "source": [
    "accuracy_score(y_pred,Y_test)"
   ]
  }
 ],
 "metadata": {
  "kernelspec": {
   "display_name": "base",
   "language": "python",
   "name": "python3"
  },
  "language_info": {
   "codemirror_mode": {
    "name": "ipython",
    "version": 3
   },
   "file_extension": ".py",
   "mimetype": "text/x-python",
   "name": "python",
   "nbconvert_exporter": "python",
   "pygments_lexer": "ipython3",
   "version": "3.12.7"
  }
 },
 "nbformat": 4,
 "nbformat_minor": 5
}
